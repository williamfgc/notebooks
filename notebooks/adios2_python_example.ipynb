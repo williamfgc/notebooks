{
 "cells": [
  {
   "cell_type": "markdown",
   "metadata": {},
   "source": [
    "# Using ADIOS2 Python with Jupyter Notebook\n",
    "\n"
   ]
  },
  {
   "cell_type": "markdown",
   "metadata": {},
   "source": [
    "## Writer: Generate Data\n",
    "    \n",
    "    We use a simple solution to the heat transfer equation in a (very-fast) 1D cooling rod.\n",
    "    "
   ]
  },
  {
   "cell_type": "code",
   "execution_count": 1,
   "metadata": {},
   "outputs": [
    {
     "ename": "ModuleNotFoundError",
     "evalue": "No module named 'adios2'",
     "output_type": "error",
     "traceback": [
      "\u001b[0;31m---------------------------------------------------------------------------\u001b[0m",
      "\u001b[0;31mModuleNotFoundError\u001b[0m                       Traceback (most recent call last)",
      "\u001b[0;32m<ipython-input-1-1132f96c48ad>\u001b[0m in \u001b[0;36m<module>\u001b[0;34m\u001b[0m\n\u001b[1;32m      2\u001b[0m \u001b[0;32mimport\u001b[0m \u001b[0mmath\u001b[0m\u001b[0;34m\u001b[0m\u001b[0;34m\u001b[0m\u001b[0m\n\u001b[1;32m      3\u001b[0m \u001b[0;32mimport\u001b[0m \u001b[0mnumpy\u001b[0m \u001b[0;32mas\u001b[0m \u001b[0mnp\u001b[0m\u001b[0;34m\u001b[0m\u001b[0;34m\u001b[0m\u001b[0m\n\u001b[0;32m----> 4\u001b[0;31m \u001b[0;32mimport\u001b[0m \u001b[0madios2\u001b[0m\u001b[0;34m\u001b[0m\u001b[0;34m\u001b[0m\u001b[0m\n\u001b[0m\u001b[1;32m      5\u001b[0m \u001b[0;34m\u001b[0m\u001b[0m\n\u001b[1;32m      6\u001b[0m \u001b[0;34m\u001b[0m\u001b[0m\n",
      "\u001b[0;31mModuleNotFoundError\u001b[0m: No module named 'adios2'"
     ]
    }
   ],
   "source": [
    "from mpi4py import MPI\n",
    "import math\n",
    "import numpy as np\n",
    "import adios2\n",
    "\n",
    "\n",
    "def calcUxt(Uo, x, t):\n",
    "    return 4 * Uo / math.pi * math.sin(math.pi * x) * math.exp(- math.pi * math.pi * t)\n",
    "\n",
    "# Initialize MPI\n",
    "comm = MPI.COMM_WORLD\n",
    "rank = comm.Get_rank()\n",
    "size = comm.Get_size()\n",
    "\n",
    "# Initialize dimensions\n",
    "nx = 10\n",
    "\n",
    "shape = [size * nx]\n",
    "start = [rank * nx]\n",
    "count = [   1 * nx]\n",
    "\n",
    "# Initialize problem x coord, Uo, Uxt\n",
    "Lx = 1. \n",
    "Dx = 1./shape[0]\n",
    "x = np.full( (nx), 0. )\n",
    "for i in range(0,nx):\n",
    "    x[i] = start[0] + (i+0.5) * Dx\n",
    "\n",
    "# Make sure you use floats\n",
    "Uo = 1. \n",
    "Uxt = np.full( (nx), Uo)\n",
    "\n",
    "# Writer\n",
    "with adios2.open(\"Uxt.bp\", \"w\", comm) as fw:\n",
    "\n",
    "    for t in range(0, 5):\n",
    "        # We save \"x\" only once\n",
    "        if(t == 0):\n",
    "            fw.write(\"x\", x, shape, start, count)\n",
    "        else:\n",
    "            for i in range(0,nx):\n",
    "                Uxt[i] = calcUxt(Uo, x[i], t)\n",
    "                \n",
    "        fw.write(\"Uxt\", Uxt, shape, start, count, endl=True)"
   ]
  },
  {
   "cell_type": "markdown",
   "metadata": {},
   "source": [
    "The data is saved in a bp file and subsfile directory structure. To access the data, the user doesn't need to manipulate these directly, but rather using the **bpls** command line utility for quick inspection. For example:"
   ]
  },
  {
   "cell_type": "code",
   "execution_count": null,
   "metadata": {},
   "outputs": [],
   "source": [
    "!bpls Uxt.bp -lavd -n 10"
   ]
  },
  {
   "cell_type": "markdown",
   "metadata": {},
   "source": [
    "## Reader: Accessing and Understanding the Data"
   ]
  },
  {
   "cell_type": "code",
   "execution_count": null,
   "metadata": {},
   "outputs": [],
   "source": [
    "from mpi4py import MPI\n",
    "import math\n",
    "import numpy as np\n",
    "import adios2\n",
    "import matplotlib.pyplot as plt\n",
    "\n",
    "\n",
    "Uxt_plots = plt.subplots()\n",
    "\n",
    "with adios2.open(\"Uxt.bp\", \"r\", comm) as fr:\n",
    "\n",
    "    for fr_step in fr:\n",
    "\n",
    "        step = fr_step.currentstep()\n",
    "        if(step == 0):\n",
    "            x = fr_step.read(\"x\")\n",
    "            \n",
    "        Uxt = fr_step.read(\"Uxt\")\n",
    "        \n",
    "        plt.semilogy(x, Uxt, label = \"Ux for time= \" + str(step))\n",
    "        \n",
    "legend = plt.legend(loc='best', shadow=True, fontsize='x-large')"
   ]
  }
 ],
 "metadata": {
  "kernelspec": {
   "display_name": "Python 3",
   "language": "python",
   "name": "python3"
  },
  "language_info": {
   "codemirror_mode": {
    "name": "ipython",
    "version": 3
   },
   "file_extension": ".py",
   "mimetype": "text/x-python",
   "name": "python",
   "nbconvert_exporter": "python",
   "pygments_lexer": "ipython3",
   "version": "3.6.7"
  }
 },
 "nbformat": 4,
 "nbformat_minor": 2
}
